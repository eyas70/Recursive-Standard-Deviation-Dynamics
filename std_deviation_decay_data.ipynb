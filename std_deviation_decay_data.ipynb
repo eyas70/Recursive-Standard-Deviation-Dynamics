{
  "nbformat": 4,
  "nbformat_minor": 0,
  "metadata": {
    "colab": {
      "provenance": []
    },
    "kernelspec": {
      "name": "python3",
      "display_name": "Python 3"
    },
    "language_info": {
      "name": "python"
    }
  },
  "cells": [
    {
      "cell_type": "code",
      "execution_count": 1,
      "metadata": {
        "colab": {
          "base_uri": "https://localhost:8080/",
          "height": 35
        },
        "id": "9T8Vw_NCkfWC",
        "outputId": "6eff1363-7d9c-42ef-f602-297f873f2f2f"
      },
      "outputs": [
        {
          "output_type": "stream",
          "name": "stdout",
          "text": [
            "CSV data file created successfully with 50000 rows (or fewer if tolerance reached): std_deviation_decay_data_50000_rows.csv\n"
          ]
        },
        {
          "output_type": "display_data",
          "data": {
            "text/plain": [
              "<IPython.core.display.Javascript object>"
            ],
            "application/javascript": [
              "\n",
              "    async function download(id, filename, size) {\n",
              "      if (!google.colab.kernel.accessAllowed) {\n",
              "        return;\n",
              "      }\n",
              "      const div = document.createElement('div');\n",
              "      const label = document.createElement('label');\n",
              "      label.textContent = `Downloading \"${filename}\": `;\n",
              "      div.appendChild(label);\n",
              "      const progress = document.createElement('progress');\n",
              "      progress.max = size;\n",
              "      div.appendChild(progress);\n",
              "      document.body.appendChild(div);\n",
              "\n",
              "      const buffers = [];\n",
              "      let downloaded = 0;\n",
              "\n",
              "      const channel = await google.colab.kernel.comms.open(id);\n",
              "      // Send a message to notify the kernel that we're ready.\n",
              "      channel.send({})\n",
              "\n",
              "      for await (const message of channel.messages) {\n",
              "        // Send a message to notify the kernel that we're ready.\n",
              "        channel.send({})\n",
              "        if (message.buffers) {\n",
              "          for (const buffer of message.buffers) {\n",
              "            buffers.push(buffer);\n",
              "            downloaded += buffer.byteLength;\n",
              "            progress.value = downloaded;\n",
              "          }\n",
              "        }\n",
              "      }\n",
              "      const blob = new Blob(buffers, {type: 'application/binary'});\n",
              "      const a = document.createElement('a');\n",
              "      a.href = window.URL.createObjectURL(blob);\n",
              "      a.download = filename;\n",
              "      div.appendChild(a);\n",
              "      a.click();\n",
              "      div.remove();\n",
              "    }\n",
              "  "
            ]
          },
          "metadata": {}
        },
        {
          "output_type": "display_data",
          "data": {
            "text/plain": [
              "<IPython.core.display.Javascript object>"
            ],
            "application/javascript": [
              "download(\"download_cb34a0ce-51f9-40b9-86bd-39ce70acee00\", \"std_deviation_decay_data_50000_rows.csv\", 1317665)"
            ]
          },
          "metadata": {}
        }
      ],
      "source": [
        "import numpy as np\n",
        "import csv\n",
        "\n",
        "def recursive_std_deviation(initial_data, max_iterations=50000, tolerance=1e-9):\n",
        "    data = np.array(initial_data, dtype=np.float64)\n",
        "    std_deviations = []\n",
        "    for i in range(max_iterations):\n",
        "        current_std = np.std(data, ddof=1)\n",
        "        std_deviations.append(current_std)\n",
        "        if current_std < tolerance:\n",
        "            break\n",
        "        data = np.append(data, current_std)\n",
        "    return std_deviations\n",
        "\n",
        "# Run simulation for 50000 iterations\n",
        "initial_dataset = np.arange(1, 11, dtype=np.float64)\n",
        "results = recursive_std_deviation(initial_dataset, max_iterations=50000)\n",
        "\n",
        "# --- CSV Data Export Section ---\n",
        "csv_file_path = \"std_deviation_decay_data_50000_rows.csv\"  # Define the CSV file name (more descriptive)\n",
        "\n",
        "with open(csv_file_path, mode='w', newline='') as csvfile:\n",
        "    csv_writer = csv.writer(csvfile)\n",
        "\n",
        "    # Write header row\n",
        "    csv_writer.writerow(['Iteration', 'Standard Deviation'])\n",
        "\n",
        "    # Write data rows\n",
        "    for i, std_dev in enumerate(results):\n",
        "        csv_writer.writerow([i + 1, std_dev]) # Iteration number starts from 1\n",
        "\n",
        "print(f\"CSV data file created successfully with 50000 rows (or fewer if tolerance reached): {csv_file_path}\")\n",
        "\n",
        "# Download the file\n",
        "from google.colab import files\n",
        "files.download(csv_file_path)"
      ]
    }
  ]
}